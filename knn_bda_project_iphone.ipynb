{
  "nbformat": 4,
  "nbformat_minor": 0,
  "metadata": {
    "colab": {
      "name": "knn.ipynb",
      "provenance": [],
      "collapsed_sections": [],
      "mount_file_id": "1ROUTXvQlniCfmDvG7mrt9PTeeMOD9JzS",
      "authorship_tag": "ABX9TyP6Vd1g520ldmi0QQtMumvz",
      "include_colab_link": true
    },
    "kernelspec": {
      "name": "python3",
      "display_name": "Python 3"
    },
    "language_info": {
      "name": "python"
    }
  },
  "cells": [
    {
      "cell_type": "markdown",
      "metadata": {
        "id": "view-in-github",
        "colab_type": "text"
      },
      "source": [
        "<a href=\"https://colab.research.google.com/github/wo1fie3608/Open-Source-Lab-1/blob/main/knn_bda_project_iphone.ipynb\" target=\"_parent\"><img src=\"https://colab.research.google.com/assets/colab-badge.svg\" alt=\"Open In Colab\"/></a>"
      ]
    },
    {
      "cell_type": "code",
      "execution_count": 307,
      "metadata": {
        "id": "oHjT4j0bl17I"
      },
      "outputs": [],
      "source": [
        "import pandas as pd\n",
        "import numpy as np\n",
        "import matplotlib.pyplot as plt"
      ]
    },
    {
      "cell_type": "code",
      "source": [
        "from google.colab import drive\n",
        "drive.mount('/content/drive')"
      ],
      "metadata": {
        "colab": {
          "base_uri": "https://localhost:8080/",
          "height": 0
        },
        "id": "-Ij1RBJYmYLZ",
        "outputId": "d113c1fe-bc3f-4ec0-a4a5-38ccd5be3fcc"
      },
      "execution_count": 308,
      "outputs": [
        {
          "output_type": "stream",
          "name": "stdout",
          "text": [
            "Drive already mounted at /content/drive; to attempt to forcibly remount, call drive.mount(\"/content/drive\", force_remount=True).\n"
          ]
        }
      ]
    },
    {
      "cell_type": "code",
      "source": [
        "data=pd.read_csv('/content/drive/MyDrive/iphone_purchase_records.csv')\n",
        "print(data)\n",
        "gender_bin=pd.get_dummies(data[\"Gender\"])\n",
        "data=pd.concat((gender_bin, data),axis=1)\n",
        "data=data.drop([\"Gender\"], axis=1)\n",
        "print(data)"
      ],
      "metadata": {
        "colab": {
          "base_uri": "https://localhost:8080/",
          "height": 0
        },
        "id": "mCl-9sAZmiFy",
        "outputId": "2187ecb1-4371-4f1c-c5d8-8641bb9c6dad"
      },
      "execution_count": 309,
      "outputs": [
        {
          "output_type": "stream",
          "name": "stdout",
          "text": [
            "     Gender  Age  Salary  Purchase Iphone\n",
            "0      Male   19   19000                0\n",
            "1      Male   35   20000                0\n",
            "2    Female   26   43000                0\n",
            "3    Female   27   57000                0\n",
            "4      Male   19   76000                0\n",
            "..      ...  ...     ...              ...\n",
            "395  Female   46   41000                1\n",
            "396    Male   51   23000                1\n",
            "397  Female   50   20000                1\n",
            "398    Male   36   33000                0\n",
            "399  Female   49   36000                1\n",
            "\n",
            "[400 rows x 4 columns]\n",
            "     Female  Male  Age  Salary  Purchase Iphone\n",
            "0         0     1   19   19000                0\n",
            "1         0     1   35   20000                0\n",
            "2         1     0   26   43000                0\n",
            "3         1     0   27   57000                0\n",
            "4         0     1   19   76000                0\n",
            "..      ...   ...  ...     ...              ...\n",
            "395       1     0   46   41000                1\n",
            "396       0     1   51   23000                1\n",
            "397       1     0   50   20000                1\n",
            "398       0     1   36   33000                0\n",
            "399       1     0   49   36000                1\n",
            "\n",
            "[400 rows x 5 columns]\n"
          ]
        }
      ]
    },
    {
      "cell_type": "code",
      "source": [
        "X=data.iloc[:,:-1]\n",
        "y=data.iloc[:,-1]\n",
        "from sklearn.model_selection import train_test_split\n",
        "from sklearn.preprocessing import StandardScaler\n",
        "X_train,X_test,y_train,y_test=train_test_split(X,y,test_size=0.3,random_state=128)\n",
        "scale= StandardScaler()\n",
        "X_train = scale.fit_transform(X_train)\n",
        "X_test = scale.transform(X_test)\n",
        "X_train=pd.DataFrame(X_train)\n",
        "X_test=pd.DataFrame(X_test)"
      ],
      "metadata": {
        "id": "U_UNiCrqnX2p"
      },
      "execution_count": 310,
      "outputs": []
    },
    {
      "cell_type": "code",
      "source": [
        "def knearest(X_traint,X_testt,k,y_traint):\n",
        "  X_traint=X_traint.to_numpy()\n",
        "  X_testt=X_testt.to_numpy()\n",
        "  euclidian_distance=(X_traint-X_testt)**2\n",
        "  euclidian_distance=np.sum(euclidian_distance, axis = 1)**0.5\n",
        "  temp=[]\n",
        "  ind=0\n",
        "  for i in euclidian_distance:\n",
        "    temp.append([i,ind])\n",
        "    ind=ind+1\n",
        "  temp=np.array(temp)\n",
        "  temp_sorted = temp[np.argsort(temp[:, 0])]\n",
        "  zero=0\n",
        "  one=0\n",
        "  for i in range(k):\n",
        "    if(y_traint.iloc[int(temp_sorted[i][1])]==0):\n",
        "      zero=zero+1\n",
        "    else:\n",
        "      one=one+1\n",
        "  if(one>zero):\n",
        "    return 1\n",
        "  else:\n",
        "    return 0\n",
        "\n"
      ],
      "metadata": {
        "id": "N3LQ3zMboPYI"
      },
      "execution_count": 311,
      "outputs": []
    },
    {
      "cell_type": "code",
      "source": [
        "k=1\n",
        "accuracy=0\n",
        "incorrectfinal=len(X_test)\n",
        "recallfinal=0\n",
        "precisionfinal=0\n",
        "fscorefinal=0\n",
        "for i in range(1,int(len(X_test**0.5)),2):\n",
        "  correct=0\n",
        "  tn=0\n",
        "  fp=0\n",
        "  fn=0\n",
        "  tp=0\n",
        "  for j in range(0,len(X_test)):\n",
        "    predicted=knearest(X_train,X_test.iloc[j,:],i,y_train)\n",
        "    if(y_test.iloc[j]==0):\n",
        "      if(predicted==0):\n",
        "        tn+=1\n",
        "      else:\n",
        "        fp+=1\n",
        "    else:\n",
        "      if(predicted==0):\n",
        "        fn+=1\n",
        "      else:\n",
        "        tp+=1\n",
        "    correct+=(predicted==y_test.iloc[j])\n",
        "  incorrect=len(X_test)-correct\n",
        "  correct=correct/len(X_test)\n",
        "  if(accuracy<correct):\n",
        "    accuracy=correct\n",
        "    k=i\n",
        "    incorrectfinal=incorrect\n",
        "    recallfinal=tp/(tp+fn)\n",
        "    precisionfinal=tp/(tp+fp)\n",
        "    fscorefinal=2*recallfinal*precisionfinal/(precisionfinal+recallfinal)\n",
        "    \n",
        "print(\"Best K value is:\",k,\" with accuracy: \",accuracy*100,\"%\")"
      ],
      "metadata": {
        "colab": {
          "base_uri": "https://localhost:8080/",
          "height": 0
        },
        "id": "msxHL_uuoU71",
        "outputId": "29c82952-e500-4955-d847-f766c2b45f0f"
      },
      "execution_count": 312,
      "outputs": [
        {
          "output_type": "stream",
          "name": "stdout",
          "text": [
            "Best K value is: 5  with accuracy:  94.16666666666667 %\n"
          ]
        }
      ]
    },
    {
      "cell_type": "code",
      "source": [
        "results={}\n",
        "results[\"accuracy\"]=accuracy*100\n",
        "results[\"precision\"]=precisionfinal*100\n",
        "results[\"recall\"]=recallfinal*100\n",
        "results[\"f1score\"]=fscorefinal*100"
      ],
      "metadata": {
        "id": "ULzPvBLVoVZk"
      },
      "execution_count": 313,
      "outputs": []
    },
    {
      "cell_type": "code",
      "source": [
        "print(results)\n"
      ],
      "metadata": {
        "colab": {
          "base_uri": "https://localhost:8080/",
          "height": 0
        },
        "id": "3sCqIkYUt1wr",
        "outputId": "e5771d4d-4874-4c62-8169-8c55d4648b76"
      },
      "execution_count": 314,
      "outputs": [
        {
          "output_type": "stream",
          "name": "stdout",
          "text": [
            "{'accuracy': 94.16666666666667, 'precision': 92.6829268292683, 'recall': 90.47619047619048, 'f1score': 91.56626506024097}\n"
          ]
        }
      ]
    },
    {
      "cell_type": "code",
      "source": [
        "parameters = list(results.keys())\n",
        "values = list(results.values())  \n",
        "plt.style.use('ggplot')\n",
        "plt.locator_params(axis=\"y\", nbins=15)\n",
        "plt.bar(parameters, values, color ='blue')\n",
        "plt.xlabel(\"Parameters\")\n",
        "plt.ylabel(\"Score in percentage\")\n",
        "plt.title(\"Performance Analysis\")\n",
        "plt.show()"
      ],
      "metadata": {
        "colab": {
          "base_uri": "https://localhost:8080/",
          "height": 299
        },
        "id": "mgZqSYiSuBf7",
        "outputId": "84a02030-dc52-4253-b162-01cbd12e5fb7"
      },
      "execution_count": 315,
      "outputs": [
        {
          "output_type": "display_data",
          "data": {
            "image/png": "[encoded data removed]",
            "text/plain": [
              "<Figure size 432x288 with 1 Axes>"
            ]
          },
          "metadata": {}
        }
      ]
    },
    {
      "cell_type": "code",
      "source": [
        "results[\"incorrect\"]=incorrectfinal"
      ],
      "metadata": {
        "id": "jn2XLcIqDwTU"
      },
      "execution_count": 316,
      "outputs": []
    },
    {
      "cell_type": "code",
      "source": [
        "for i in results:\n",
        "  print(i+\": \",results[i],end='')\n",
        "  if(results[i]>70):\n",
        "    print(\" %\")\n",
        "  else:\n",
        "    print()"
      ],
      "metadata": {
        "colab": {
          "base_uri": "https://localhost:8080/",
          "height": 0
        },
        "id": "W4Z30WfuHucN",
        "outputId": "5303ff98-1028-48de-dcd7-fc1481716959"
      },
      "execution_count": 317,
      "outputs": [
        {
          "output_type": "stream",
          "name": "stdout",
          "text": [
            "accuracy:  94.16666666666667 %\n",
            "precision:  92.6829268292683 %\n",
            "recall:  90.47619047619048 %\n",
            "f1score:  91.56626506024097 %\n",
            "incorrect:  7\n"
          ]
        }
      ]
    },
    {
      "cell_type": "code",
      "source": [
        ""
      ],
      "metadata": {
        "id": "pLduHOtgHyi7"
      },
      "execution_count": 317,
      "outputs": []
    }
  ]
}